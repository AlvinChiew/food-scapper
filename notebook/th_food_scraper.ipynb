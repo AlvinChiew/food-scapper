{
 "cells": [
  {
   "cell_type": "code",
   "execution_count": 61,
   "metadata": {},
   "outputs": [],
   "source": [
    "from selenium import webdriver\n",
    "from selenium.webdriver.chrome.service import Service\n",
    "from selenium.webdriver.common.by import By"
   ]
  },
  {
   "cell_type": "code",
   "execution_count": 72,
   "metadata": {},
   "outputs": [],
   "source": [
    "url = \"https://inmu2.mahidol.ac.th/thaifcd/search_food_by_group.php\"\n",
    "driver_path = \"../driver/chromedriver.exe\"\n",
    "export_path = \"../th_food_item_options_raw.csv\""
   ]
  },
  {
   "cell_type": "code",
   "execution_count": 73,
   "metadata": {},
   "outputs": [],
   "source": [
    "serv = Service(driver_path)\n",
    "# opt = webdriver.ChromeOptions()\n",
    "# opt.add_argument(\"--log-level 3\")\n",
    "driver = webdriver.Chrome(service=serv)  # , options=opt)\n",
    "driver.get(url)\n",
    "\n",
    "food_groups_sb = driver.find_element(By.XPATH, '//*[@id=\"frmfood_group_id\"]')\n",
    "main_search_btn = driver.find_element(\n",
    "    By.XPATH, '//*[@id=\"form1\"]/div[1]/table/tbody/tr[3]/td[2]/input'\n",
    ")\n",
    "\n",
    "food_groups = [x.text for x in food_groups_sb.find_elements(By.TAG_NAME, \"option\")]\n"
   ]
  },
  {
   "cell_type": "code",
   "execution_count": 74,
   "metadata": {},
   "outputs": [],
   "source": [
    "food_group = food_groups[-1]"
   ]
  },
  {
   "cell_type": "code",
   "execution_count": 75,
   "metadata": {},
   "outputs": [],
   "source": [
    "food_groups_sb.send_keys(food_group)\n",
    "main_search_btn.click()\n",
    "food_tb = driver.find_element(By.XPATH, '//*[@id=\"form1\"]/div[4]/table')"
   ]
  },
  {
   "cell_type": "code",
   "execution_count": 76,
   "metadata": {},
   "outputs": [],
   "source": [
    "row = food_tb.find_elements(By.TAG_NAME, \"tr\")[1]"
   ]
  },
  {
   "cell_type": "code",
   "execution_count": 77,
   "metadata": {},
   "outputs": [],
   "source": [
    "row_data = []\n",
    "nutr_link = \"\"\n",
    "for cell in row.find_elements(By.TAG_NAME, \"td\")[1:]:\n",
    "    if cell.text is None:\n",
    "        continue\n",
    "\n",
    "    row_data.append(cell.text)\n",
    "    if nutr_link == \"\" and cell.find_elements(By.CSS_SELECTOR, \"a\"):\n",
    "        nutr_link = cell.find_element(By.TAG_NAME, \"a\").get_attribute(\"href\")"
   ]
  },
  {
   "cell_type": "code",
   "execution_count": 78,
   "metadata": {},
   "outputs": [
    {
     "data": {
      "text/plain": [
       "['มอลคิสท์ แครกเกอร์, มอลคิสท์',\n",
       " 'Cracker',\n",
       " 'พีที มาโยรา อินดาซ์ ทีบีเค ประเทศอินโดนีเซีย',\n",
       " 'Z060001']"
      ]
     },
     "execution_count": 78,
     "metadata": {},
     "output_type": "execute_result"
    }
   ],
   "source": [
    "row_data"
   ]
  },
  {
   "cell_type": "code",
   "execution_count": 79,
   "metadata": {},
   "outputs": [],
   "source": [
    "food_info_output = []\n",
    "col_names = ['thai_name', 'english_name', 'scientific_name']\n",
    "food_id = row_data[-1]\n",
    "for k, v in zip(col_names, row_data):\n",
    "    food_info_output.append([food_id, k, v, ''])"
   ]
  },
  {
   "cell_type": "code",
   "execution_count": 80,
   "metadata": {},
   "outputs": [
    {
     "data": {
      "text/plain": [
       "[['Z060001', 'thai_name', 'มอลคิสท์ แครกเกอร์, มอลคิสท์', ''],\n",
       " ['Z060001', 'english_name', 'Cracker', ''],\n",
       " ['Z060001',\n",
       "  'scientific_name',\n",
       "  'พีที มาโยรา อินดาซ์ ทีบีเค ประเทศอินโดนีเซีย',\n",
       "  '']]"
      ]
     },
     "execution_count": 80,
     "metadata": {},
     "output_type": "execute_result"
    }
   ],
   "source": [
    "food_info_output"
   ]
  },
  {
   "cell_type": "code",
   "execution_count": 81,
   "metadata": {},
   "outputs": [
    {
     "data": {
      "text/plain": [
       "'https://inmu2.mahidol.ac.th/thaifcd/search_food_by_name_result.php?food_id=1936&rk='"
      ]
     },
     "execution_count": 81,
     "metadata": {},
     "output_type": "execute_result"
    }
   ],
   "source": [
    "nutr_link"
   ]
  },
  {
   "cell_type": "code",
   "execution_count": 82,
   "metadata": {},
   "outputs": [],
   "source": [
    "driver.execute_script(\"window.open('');\")\n",
    "driver.switch_to.window(driver.window_handles[1])\n",
    "driver.get(nutr_link)\n",
    "\n",
    "nutr_baseweight = driver.find_element(By.XPATH, '//*[@id=\"form1\"]/div[4]/div/div[1]/div/div[3]')\n",
    "food_info_output.append([food_id, 'base_weight', nutr_baseweight.text, ''])\n"
   ]
  },
  {
   "cell_type": "code",
   "execution_count": 86,
   "metadata": {},
   "outputs": [],
   "source": [
    "nutr_tb = driver.find_element(By.XPATH, '//*[@id=\"div_table_body\"]')\n",
    "for row in nutr_tb.find_elements(By.TAG_NAME, \"div\"):\n",
    "    cells = [cell.text for cell in row.find_elements(By.TAG_NAME, \"div\")]\n",
    "    if len(cells) != 4:\n",
    "        continue\n",
    "    k, unit, _, v = cells\n",
    "    food_info_output.append([food_id, k, v, unit])"
   ]
  },
  {
   "cell_type": "code",
   "execution_count": 87,
   "metadata": {},
   "outputs": [
    {
     "data": {
      "text/plain": [
       "[['Z060001', 'thai_name', 'มอลคิสท์ แครกเกอร์, มอลคิสท์', ''],\n",
       " ['Z060001', 'english_name', 'Cracker', ''],\n",
       " ['Z060001',\n",
       "  'scientific_name',\n",
       "  'พีที มาโยรา อินดาซ์ ทีบีเค ประเทศอินโดนีเซีย',\n",
       "  ''],\n",
       " ['Z060001', 'base_weight', 'Serving', ''],\n",
       " ['Z060001', 'Total energy - by calculation', '459', 'kcal'],\n",
       " ['Z060001', 'Protein, total', '7.41', 'g'],\n",
       " ['Z060001', 'Fat, total', '14.81', 'g'],\n",
       " ['Z060001', 'Carbohydrate, total', '74.07', 'g'],\n",
       " ['Z060001', 'Dietary fibre', '2.6', 'g'],\n",
       " ['Z060001', 'Sodium', '593', 'mg'],\n",
       " ['Z060001', 'Iron', '3.33', 'mg'],\n",
       " ['Z060001', 'Thiamin', '1.94', 'mg'],\n",
       " ['Z060001', 'Riboflavin', '1.26', 'mg'],\n",
       " ['Z060001', 'Sugars, total', '14.81', 'g'],\n",
       " ['Z060001', 'Fatty acids, total saturated', '7.41', 'g']]"
      ]
     },
     "execution_count": 87,
     "metadata": {},
     "output_type": "execute_result"
    }
   ],
   "source": [
    "food_info_output"
   ]
  },
  {
   "cell_type": "code",
   "execution_count": 46,
   "metadata": {},
   "outputs": [],
   "source": [
    "with open(export_path, \"a\", encoding=\"utf-8\") as f:\n",
    "    for row in food_info_output:\n",
    "        f.write(\"|\".join(row) + '\\n')"
   ]
  },
  {
   "cell_type": "code",
   "execution_count": 13,
   "metadata": {},
   "outputs": [],
   "source": [
    "from io import StringIO\n",
    "import lxml.etree\n",
    "html = driver.execute_script(\"return document.documentElement.outerHTML\")\n",
    "parser = lxml.etree.HTMLParser()\n",
    "tree = lxml.etree.parse(StringIO(html), parser)\n",
    "lxml.etree.tostring(tree)\n"
   ]
  },
  {
   "cell_type": "code",
   "execution_count": null,
   "metadata": {},
   "outputs": [],
   "source": [
    "for food_group in food_groups[1:]:\n",
    "\n",
    "    food_groups_sb.send_keys(food_group)\n",
    "    main_search_btn.click()\n",
    "    food_tb = driver.find_element(By.XPATH, '//*[@id=\"form1\"]/div[4]/table')\n",
    "\n",
    "    for row in food_tb.find_elements(By.TAG_NAME, \"tr\")[1:]:\n",
    "        # cols = [\"thai_name\", \"eng_name\", \"sci_name\", \"code\"]\n",
    "        row_data = []\n",
    "        nutr_link = \"\"\n",
    "        for cell in row.find_elements(By.TAG_NAME, \"td\")[1:]:\n",
    "            if cell.text is None:\n",
    "                continue\n",
    "\n",
    "            row_data.append(cell.text)\n",
    "            if nutr_link == \"\" and cell.find_elements(By.CSS_SELECTOR, \"a\"):\n",
    "                nutr_link = cell.find_element(By.TAG_NAME, \"a\").get_attribute(\"href\")\n",
    "\n",
    "        # per 100 g\n",
    "        # row_data.append(nutr_link)\n",
    "        driver.execute_script(\"window.open('');\")\n",
    "        driver.switch_to.window(driver.window_handles[1])\n",
    "        driver.get(nutr_link)\n",
    "        nutr_tb = driver.find_element(By.XPATH, '//*[@id=\"div_table_body\"]')\n",
    "        for row in nutr_tb.find_elements(By.TAG_NAME, \"div\"):\n",
    "            for cell in row.find_elements(By.TAG_NAME, \"div\"):\n",
    "                # print(cell.get_attribute(\"class\"))\n",
    "                row_data.append(cell.text)\n",
    "\n",
    "        print(row_data)\n",
    "        with open(export_path, \"a\", encoding=\"utf-8\") as f:\n",
    "            f.write(\"|\".join(row_data) + '\\n')\n",
    "        break\n",
    "    # back_btn = driver.find_element(By.XPATH, \"//*[@id=\"form1\"]/div[5]/a[3]\")\n",
    "    # back_btn.click()\n",
    "\n",
    "    break\n"
   ]
  },
  {
   "cell_type": "code",
   "execution_count": 71,
   "metadata": {},
   "outputs": [],
   "source": [
    "driver.quit()"
   ]
  },
  {
   "cell_type": "code",
   "execution_count": null,
   "metadata": {},
   "outputs": [],
   "source": []
  }
 ],
 "metadata": {
  "interpreter": {
   "hash": "3dc13c17b2926dd44b18f31601d48249590b1373912679333364aa4286767bb9"
  },
  "kernelspec": {
   "display_name": "Python 3.8.10 64-bit ('3.8.10': pyenv)",
   "language": "python",
   "name": "python3"
  },
  "language_info": {
   "codemirror_mode": {
    "name": "ipython",
    "version": 3
   },
   "file_extension": ".py",
   "mimetype": "text/x-python",
   "name": "python",
   "nbconvert_exporter": "python",
   "pygments_lexer": "ipython3",
   "version": "3.8.10"
  },
  "orig_nbformat": 4
 },
 "nbformat": 4,
 "nbformat_minor": 2
}
