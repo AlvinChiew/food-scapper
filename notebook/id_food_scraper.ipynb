{
 "cells": [
  {
   "cell_type": "code",
   "execution_count": 4,
   "metadata": {},
   "outputs": [],
   "source": [
    "from selenium import webdriver\n",
    "from selenium.webdriver.chrome.service import Service\n",
    "from selenium.webdriver.support.ui import Select\n",
    "from selenium.webdriver.common.by import By"
   ]
  },
  {
   "cell_type": "code",
   "execution_count": 97,
   "metadata": {},
   "outputs": [],
   "source": [
    "url = \"http://www.panganku.org/en-EN/semua_nutrisi\"\n",
    "driver_path = \"../driver/chromedriver.exe\"\n",
    "export_path = \"../id_food_item_options_raw.csv\""
   ]
  },
  {
   "cell_type": "code",
   "execution_count": 3,
   "metadata": {},
   "outputs": [],
   "source": [
    "serv = Service(driver_path)\n",
    "driver = webdriver.Chrome(service=serv)  # , options=opt)\n",
    "driver.get(url)"
   ]
  },
  {
   "cell_type": "code",
   "execution_count": 124,
   "metadata": {},
   "outputs": [],
   "source": [
    "entries_count = Select(driver.find_element(By.XPATH, '//*[@id=\"data_length\"]/label/select'))\n",
    "entries_count.select_by_value('25')\n",
    "entries_count.select_by_value('-1')"
   ]
  },
  {
   "cell_type": "code",
   "execution_count": 128,
   "metadata": {},
   "outputs": [],
   "source": [
    "food_tb = driver.find_element(By.XPATH, '//*[@id=\"data\"]/tbody')\n",
    "food_items = food_tb.find_elements(By.TAG_NAME, \"tr\")"
   ]
  },
  {
   "cell_type": "code",
   "execution_count": 135,
   "metadata": {},
   "outputs": [
    {
     "data": {
      "text/plain": [
       "1146"
      ]
     },
     "execution_count": 135,
     "metadata": {},
     "output_type": "execute_result"
    }
   ],
   "source": [
    "len(food_items)"
   ]
  },
  {
   "cell_type": "code",
   "execution_count": 37,
   "metadata": {},
   "outputs": [],
   "source": [
    "food_item = food_items[0]"
   ]
  },
  {
   "cell_type": "code",
   "execution_count": 42,
   "metadata": {},
   "outputs": [
    {
     "data": {
      "text/plain": [
       "['1', 'HR005', 'Alabio duck egg, fresh', 'Eggs', 'Raw']"
      ]
     },
     "execution_count": 42,
     "metadata": {},
     "output_type": "execute_result"
    }
   ],
   "source": [
    "food_info = [x.text for x in food_item.find_elements(By.TAG_NAME, 'td')]\n",
    "food_info"
   ]
  },
  {
   "cell_type": "code",
   "execution_count": 41,
   "metadata": {},
   "outputs": [],
   "source": [
    "food_item.click()"
   ]
  },
  {
   "cell_type": "code",
   "execution_count": 48,
   "metadata": {},
   "outputs": [
    {
     "data": {
      "text/plain": [
       "('100 g', 'Edible weight 90 %')"
      ]
     },
     "execution_count": 48,
     "metadata": {},
     "output_type": "execute_result"
    }
   ],
   "source": [
    "food_base_weight = driver.find_element(By.XPATH, '//*[@id=\"print-area\"]/p/strong[1]').text\n",
    "food_edible_base_weight = driver.find_element(By.XPATH, '//*[@id=\"print-area\"]/p/strong[2]').text\n",
    "food_base_weight, food_edible_base_weight"
   ]
  },
  {
   "cell_type": "code",
   "execution_count": 118,
   "metadata": {},
   "outputs": [],
   "source": [
    "food_info_output = []\n",
    "food_info_name = ['food_name', 'food_group', 'food_type']\n",
    "food_id = food_info[1]\n",
    "for k, v in zip(food_info_name, food_info[2:]):\n",
    "    food_info_output.append([food_id, k, v])\n",
    "food_info_output.append([food_id, 'base_weight', food_base_weight])\n",
    "food_info_output.append([food_id, 'base_weight_edible', food_edible_base_weight])"
   ]
  },
  {
   "cell_type": "code",
   "execution_count": 119,
   "metadata": {},
   "outputs": [],
   "source": [
    "food_detail_tb = driver.find_element(By.XPATH, '//*[@id=\"print-area\"]/div[2]/section/div')\n",
    "food_detail_rows = food_detail_tb.find_elements(By.TAG_NAME, 'tr')"
   ]
  },
  {
   "cell_type": "code",
   "execution_count": 120,
   "metadata": {},
   "outputs": [],
   "source": [
    "for row in food_detail_rows:\n",
    "    if row.text.strip() == '' or row is None:\n",
    "        continue \n",
    "    k, v = row.find_elements(By.TAG_NAME, 'td')\n",
    "    food_info_output.append([food_id, k.text, v.text])"
   ]
  },
  {
   "cell_type": "code",
   "execution_count": 121,
   "metadata": {},
   "outputs": [
    {
     "data": {
      "text/plain": [
       "[['HR005', 'food_name', 'Alabio duck egg, fresh'],\n",
       " ['HR005', 'food_group', 'Eggs'],\n",
       " ['HR005', 'food_type', 'Raw'],\n",
       " ['HR005', 'base_weight', '100 g'],\n",
       " ['HR005', 'base_weight_edible', 'Edible weight 90 %'],\n",
       " ['HR005', 'Air (Water)', ' : 70.0 g'],\n",
       " ['HR005', 'Energi (Energy)', ' : 187 Kal'],\n",
       " ['HR005', 'Protein (Protein)', ' : 11.8 g'],\n",
       " ['HR005', 'Lemak (Fat)', ' : 14.2 g'],\n",
       " ['HR005', 'Karbohidrat (CHO)', ' : 3.0 g'],\n",
       " ['HR005', 'Serat (Fibre)', ' : 0.0 g'],\n",
       " ['HR005', 'Abu (ASH)', ' : 1.0 g'],\n",
       " ['HR005', 'Kalsium (Ca)', ' : 60 mg'],\n",
       " ['HR005', 'Fosfor (P)', ' : 268 mg'],\n",
       " ['HR005', 'Besi (Fe)', ' : 6.0 mg'],\n",
       " ['HR005', 'Natrium (Na)', ' : 115 mg'],\n",
       " ['HR005', 'Kalium (K)', ' : 80.0 mg'],\n",
       " ['HR005', 'Tembaga (Cu)', ' : 0.60 mg'],\n",
       " ['HR005', 'Seng (Zn)', ' : 1.7 mg'],\n",
       " ['HR005', 'Retinol (Vit. A)', ' : 180 mcg'],\n",
       " ['HR005', 'Beta-Karoten (Carotenes)', ' : 437 mcg'],\n",
       " ['HR005', 'Thiamin (Vit. B1)', ' : 1.55 mg'],\n",
       " ['HR005', 'Riboflavin (Vit. B2)', ' : 0.37 mg'],\n",
       " ['HR005', 'Niasin (Niacin)', ' : 0.1 mg']]"
      ]
     },
     "execution_count": 121,
     "metadata": {},
     "output_type": "execute_result"
    }
   ],
   "source": [
    "food_info_output"
   ]
  },
  {
   "cell_type": "code",
   "execution_count": 122,
   "metadata": {},
   "outputs": [],
   "source": [
    "with open(export_path, \"a\", encoding=\"utf-8\") as f:\n",
    "    for i in food_info_output:\n",
    "        f.write('|'.join(i) + \"\\n\")"
   ]
  },
  {
   "cell_type": "code",
   "execution_count": 123,
   "metadata": {},
   "outputs": [],
   "source": [
    "driver.back()"
   ]
  }
 ],
 "metadata": {
  "interpreter": {
   "hash": "3dc13c17b2926dd44b18f31601d48249590b1373912679333364aa4286767bb9"
  },
  "kernelspec": {
   "display_name": "Python 3.8.10 64-bit ('3.8.10': pyenv)",
   "language": "python",
   "name": "python3"
  },
  "language_info": {
   "codemirror_mode": {
    "name": "ipython",
    "version": 3
   },
   "file_extension": ".py",
   "mimetype": "text/x-python",
   "name": "python",
   "nbconvert_exporter": "python",
   "pygments_lexer": "ipython3",
   "version": "3.8.10"
  },
  "orig_nbformat": 4
 },
 "nbformat": 4,
 "nbformat_minor": 2
}
