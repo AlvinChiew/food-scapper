{
 "cells": [
  {
   "cell_type": "markdown",
   "metadata": {},
   "source": [
    "# Food Items"
   ]
  },
  {
   "cell_type": "code",
   "execution_count": null,
   "metadata": {},
   "outputs": [],
   "source": [
    "# .venv\\Scripts\\activate"
   ]
  },
  {
   "cell_type": "code",
   "execution_count": 1,
   "metadata": {},
   "outputs": [],
   "source": [
    "from selenium.webdriver import Chrome\n",
    "from selenium.webdriver.chrome.service import Service\n",
    "from selenium.webdriver.common.by import By\n",
    "\n",
    "import time"
   ]
  },
  {
   "cell_type": "code",
   "execution_count": 2,
   "metadata": {},
   "outputs": [],
   "source": [
    "url = \"https://i.fnri.dost.gov.ph/fct/library/food_content/all\"\n",
    "driver_path = \"../driver/chromedriver.exe\"\n",
    "export_path = \"../ph_food_item_options_raw_foodlist.csv\""
   ]
  },
  {
   "cell_type": "code",
   "execution_count": 3,
   "metadata": {},
   "outputs": [],
   "source": [
    "serv = Service(driver_path)\n",
    "driver = Chrome(service=serv)\n",
    "\n",
    "driver.get(url)"
   ]
  },
  {
   "cell_type": "code",
   "execution_count": 11,
   "metadata": {},
   "outputs": [],
   "source": [
    "# time.sleep(40)"
   ]
  },
  {
   "cell_type": "code",
   "execution_count": 5,
   "metadata": {},
   "outputs": [],
   "source": [
    "# nutr_info = driver.find_element(By.XPATH, '/html/body/div[2]/div[3]/div/div')\n",
    "# nutr_info_each = nutr_info.find_elements(By.TAG_NAME, 'div')\n",
    "# nutr_info_each\n"
   ]
  },
  {
   "cell_type": "code",
   "execution_count": 71,
   "metadata": {},
   "outputs": [
    {
     "data": {
      "text/plain": [
       "''"
      ]
     },
     "execution_count": 71,
     "metadata": {},
     "output_type": "execute_result"
    }
   ],
   "source": [
    "# driver.find_element(By.ID, 'A001_data')"
   ]
  },
  {
   "cell_type": "code",
   "execution_count": 4,
   "metadata": {},
   "outputs": [],
   "source": [
    "records_per_page_btn = driver.find_element(By.XPATH, '/html/body/div[2]/div[3]/div/div/div[1543]/div[2]/div[3]/div[1]/span[2]/span/button')\n",
    "records_per_page_btn.click()\n"
   ]
  },
  {
   "cell_type": "code",
   "execution_count": 5,
   "metadata": {},
   "outputs": [],
   "source": [
    "records_per_page_100 = driver.find_element(By.XPATH, \"/html/body/div[2]/div[3]/div/div/div[1543]/div[2]/div[3]/div[1]/span[2]/span/ul/li[4]/a\")\n",
    "records_per_page_100.click()"
   ]
  },
  {
   "cell_type": "code",
   "execution_count": null,
   "metadata": {},
   "outputs": [],
   "source": [
    "records_per_page_dropdown = driver.find_element(By.CLASS_NAME, 'dropdown-menu')\n",
    "records_per_page_list = records_per_page_dropdown.find_elements(By.TAG_NAME, 'li')\n",
    "# records_per_page_dropdown[-1].text"
   ]
  },
  {
   "cell_type": "code",
   "execution_count": null,
   "metadata": {},
   "outputs": [],
   "source": [
    "\n"
   ]
  },
  {
   "cell_type": "code",
   "execution_count": 11,
   "metadata": {},
   "outputs": [
    {
     "name": "stdout",
     "output_type": "stream",
     "text": [
      "True\n"
     ]
    }
   ],
   "source": [
    "ended = False\n",
    "try: \n",
    "    next_page_btn = driver.find_element(By.XPATH, '/html/body/div[2]/div[3]/div/div/div[1543]/div[2]/div[3]/div[2]/ul/li[8]/a')\n",
    "    next_page_btn.click() \n",
    "except:\n",
    "    ended = True\n",
    "print(ended)\n"
   ]
  },
  {
   "cell_type": "code",
   "execution_count": 10,
   "metadata": {},
   "outputs": [],
   "source": [
    "food_datatable = driver.find_element(By.XPATH, \"/html/body/div[2]/div[3]/div/div/div[1543]/div[2]/div[2]/table/tbody\")\n",
    "rows = food_datatable.find_elements(By.TAG_NAME, 'tr')"
   ]
  },
  {
   "cell_type": "code",
   "execution_count": 14,
   "metadata": {},
   "outputs": [
    {
     "data": {
      "text/plain": [
       "['R102', 'Scrambled egg, prep, w/ MLP', 'N/A', 'N/A', '100%']"
      ]
     },
     "execution_count": 14,
     "metadata": {},
     "output_type": "execute_result"
    }
   ],
   "source": [
    "row = rows[2]\n",
    "\n",
    "vals = []\n",
    "cols = row.find_elements(By.TAG_NAME, 'td')\n",
    "for col in cols[:-1]:\n",
    "    vals.append(col.text)\n",
    "\n",
    "food_id = vals[0]\n",
    "vals"
   ]
  },
  {
   "cell_type": "code",
   "execution_count": 57,
   "metadata": {},
   "outputs": [],
   "source": [
    "cols[-1].find_elements(By.TAG_NAME, 'button')[0].click()"
   ]
  },
  {
   "cell_type": "code",
   "execution_count": null,
   "metadata": {},
   "outputs": [],
   "source": [
    "nutr_popout = driver.find_element(By.XPATH, '//*[@id=\"R102_data\"]/div/div/div/div[1]')"
   ]
  },
  {
   "cell_type": "code",
   "execution_count": null,
   "metadata": {},
   "outputs": [],
   "source": []
  },
  {
   "cell_type": "code",
   "execution_count": 60,
   "metadata": {},
   "outputs": [],
   "source": [
    "nutr_header = driver.find_element(By.XPATH, '//*[@id=\"' + food_id + '_data\"]/div/div/div/ul')\n",
    "nutr_sections = nutr_header.find_elements(By.TAG_NAME, 'li')"
   ]
  },
  {
   "cell_type": "code",
   "execution_count": 64,
   "metadata": {},
   "outputs": [
    {
     "data": {
      "text/plain": [
       "'Amount per 100 g E.P.'"
      ]
     },
     "execution_count": 64,
     "metadata": {},
     "output_type": "execute_result"
    }
   ],
   "source": [
    "nutr_basis = driver.find_element(By.XPATH, '//*[@id=\"proximates' + food_id + '\"]/ul/li[1]/span').text\n",
    "nutr_basis"
   ]
  },
  {
   "cell_type": "code",
   "execution_count": null,
   "metadata": {},
   "outputs": [],
   "source": [
    "nutr_datatable = driver.find_element(By.XPATH, '//*[@id=\"proximates' + food_id + '\"]/ul')\n",
    "nutr_datatable"
   ]
  },
  {
   "cell_type": "code",
   "execution_count": 63,
   "metadata": {},
   "outputs": [],
   "source": [
    "section = nutr_sections[1]\n",
    "section.click()"
   ]
  },
  {
   "cell_type": "code",
   "execution_count": 56,
   "metadata": {},
   "outputs": [],
   "source": [
    "\n",
    "close_btn = driver.find_element(By.XPATH, '//*[@id=\"' + food_id + '_data\"]/div/div/div/div[2]/button')\n",
    "close_btn.click()"
   ]
  },
  {
   "cell_type": "code",
   "execution_count": 15,
   "metadata": {},
   "outputs": [],
   "source": [
    "driver.quit()\n"
   ]
  },
  {
   "cell_type": "markdown",
   "metadata": {},
   "source": [
    "# Food Nutr"
   ]
  },
  {
   "cell_type": "code",
   "execution_count": 1,
   "metadata": {},
   "outputs": [
    {
     "data": {
      "text/html": [
       "<div>\n",
       "<style scoped>\n",
       "    .dataframe tbody tr th:only-of-type {\n",
       "        vertical-align: middle;\n",
       "    }\n",
       "\n",
       "    .dataframe tbody tr th {\n",
       "        vertical-align: top;\n",
       "    }\n",
       "\n",
       "    .dataframe thead th {\n",
       "        text-align: right;\n",
       "    }\n",
       "</style>\n",
       "<table border=\"1\" class=\"dataframe\">\n",
       "  <thead>\n",
       "    <tr style=\"text-align: right;\">\n",
       "      <th></th>\n",
       "      <th>food_id</th>\n",
       "      <th>food_name</th>\n",
       "      <th>scientific_name</th>\n",
       "      <th>common_name</th>\n",
       "      <th>edible_portion</th>\n",
       "    </tr>\n",
       "  </thead>\n",
       "  <tbody>\n",
       "    <tr>\n",
       "      <th>0</th>\n",
       "      <td>A001</td>\n",
       "      <td>Corn grits, white</td>\n",
       "      <td>Zea mays</td>\n",
       "      <td>Mais, durog, puti</td>\n",
       "      <td>100%</td>\n",
       "    </tr>\n",
       "    <tr>\n",
       "      <th>1</th>\n",
       "      <td>A002</td>\n",
       "      <td>Corn grits, yellow</td>\n",
       "      <td>Zea mays</td>\n",
       "      <td>Mais, durog, dilaw</td>\n",
       "      <td>100%</td>\n",
       "    </tr>\n",
       "    <tr>\n",
       "      <th>2</th>\n",
       "      <td>A003</td>\n",
       "      <td>Corn on cob, white</td>\n",
       "      <td>Zea mays</td>\n",
       "      <td>Mais sa busal, puti</td>\n",
       "      <td>30%</td>\n",
       "    </tr>\n",
       "    <tr>\n",
       "      <th>3</th>\n",
       "      <td>A004</td>\n",
       "      <td>Corn on cob, yellow</td>\n",
       "      <td>Zea mays</td>\n",
       "      <td>Mais sa busal, dilaw</td>\n",
       "      <td>39%</td>\n",
       "    </tr>\n",
       "    <tr>\n",
       "      <th>4</th>\n",
       "      <td>A005</td>\n",
       "      <td>Corn on cob, yellow, boiled</td>\n",
       "      <td>Zea mays</td>\n",
       "      <td>Mais sa busal, dilaw, nilaga</td>\n",
       "      <td>54%</td>\n",
       "    </tr>\n",
       "    <tr>\n",
       "      <th>...</th>\n",
       "      <td>...</td>\n",
       "      <td>...</td>\n",
       "      <td>...</td>\n",
       "      <td>...</td>\n",
       "      <td>...</td>\n",
       "    </tr>\n",
       "    <tr>\n",
       "      <th>1537</th>\n",
       "      <td>D304</td>\n",
       "      <td>Ginger</td>\n",
       "      <td>Zingiber officinale</td>\n",
       "      <td>Luya</td>\n",
       "      <td>74%</td>\n",
       "    </tr>\n",
       "    <tr>\n",
       "      <th>1538</th>\n",
       "      <td>D305</td>\n",
       "      <td>Turmeric</td>\n",
       "      <td>Curcuma longa L.</td>\n",
       "      <td>Luyang dilaw</td>\n",
       "      <td>71%</td>\n",
       "    </tr>\n",
       "    <tr>\n",
       "      <th>1539</th>\n",
       "      <td>H023</td>\n",
       "      <td>Egg mass, sea hare</td>\n",
       "      <td>Dolabella auricularia</td>\n",
       "      <td>Lukot</td>\n",
       "      <td>100%</td>\n",
       "    </tr>\n",
       "    <tr>\n",
       "      <th>1540</th>\n",
       "      <td>Q062</td>\n",
       "      <td>Tea, prep w/ water, no sugar</td>\n",
       "      <td>NaN</td>\n",
       "      <td>NaN</td>\n",
       "      <td>100%</td>\n",
       "    </tr>\n",
       "    <tr>\n",
       "      <th>1541</th>\n",
       "      <td>T012</td>\n",
       "      <td>Locust</td>\n",
       "      <td>Locusta migratoria manilensis</td>\n",
       "      <td>Balang</td>\n",
       "      <td>81%</td>\n",
       "    </tr>\n",
       "  </tbody>\n",
       "</table>\n",
       "<p>1542 rows × 5 columns</p>\n",
       "</div>"
      ],
      "text/plain": [
       "     food_id                     food_name                scientific_name  \\\n",
       "0       A001             Corn grits, white                       Zea mays   \n",
       "1       A002            Corn grits, yellow                       Zea mays   \n",
       "2       A003            Corn on cob, white                       Zea mays   \n",
       "3       A004           Corn on cob, yellow                       Zea mays   \n",
       "4       A005   Corn on cob, yellow, boiled                       Zea mays   \n",
       "...      ...                           ...                            ...   \n",
       "1537    D304                        Ginger            Zingiber officinale   \n",
       "1538    D305                      Turmeric               Curcuma longa L.   \n",
       "1539    H023            Egg mass, sea hare          Dolabella auricularia   \n",
       "1540    Q062  Tea, prep w/ water, no sugar                            NaN   \n",
       "1541    T012                        Locust  Locusta migratoria manilensis   \n",
       "\n",
       "                       common_name edible_portion  \n",
       "0                Mais, durog, puti           100%  \n",
       "1               Mais, durog, dilaw           100%  \n",
       "2              Mais sa busal, puti            30%  \n",
       "3             Mais sa busal, dilaw            39%  \n",
       "4     Mais sa busal, dilaw, nilaga            54%  \n",
       "...                            ...            ...  \n",
       "1537                          Luya            74%  \n",
       "1538                  Luyang dilaw            71%  \n",
       "1539                         Lukot           100%  \n",
       "1540                           NaN           100%  \n",
       "1541                        Balang            81%  \n",
       "\n",
       "[1542 rows x 5 columns]"
      ]
     },
     "execution_count": 1,
     "metadata": {},
     "output_type": "execute_result"
    }
   ],
   "source": [
    "import pandas as pd\n",
    "\n",
    "df_foodlist = pd.read_cs\n",
    "v('../ph_food_item_options_raw_foodlist.csv', delimiter='|')\n",
    "df_foodlist"
   ]
  },
  {
   "cell_type": "code",
   "execution_count": 2,
   "metadata": {},
   "outputs": [
    {
     "data": {
      "text/plain": [
       "array(['A001', 'A002', 'A003', ..., 'H023', 'Q062', 'T012'], dtype=object)"
      ]
     },
     "execution_count": 2,
     "metadata": {},
     "output_type": "execute_result"
    }
   ],
   "source": [
    "foodlist = df_foodlist['food_id'].values\n",
    "foodlist"
   ]
  },
  {
   "cell_type": "code",
   "execution_count": 3,
   "metadata": {},
   "outputs": [],
   "source": [
    "import lxml.html\n",
    "import urllib\n",
    "\n",
    "dom_str = urllib.request.urlopen('https://i.fnri.dost.gov.ph/fct/library/food_content/all').read()\n",
    "dom_lxml = lxml.html.fromstring(dom_str)\n",
    "\n",
    "# description = lxml_mysite.xpath(\"//meta[@name='description']\")[0] # meta tag description\n",
    "# text = description.get('content') # content attribute of the tag\n",
    "\n",
    "export_path = '../ph_food_item_options_raw_foodnutr.csv'"
   ]
  },
  {
   "cell_type": "code",
   "execution_count": 4,
   "metadata": {},
   "outputs": [
    {
     "name": "stderr",
     "output_type": "stream",
     "text": [
      "100%|██████████| 1542/1542 [07:49<00:00,  3.28it/s]\n"
     ]
    }
   ],
   "source": [
    "from tqdm import tqdm\n",
    "for food_id in tqdm(foodlist):\n",
    "    nutr_sections = dom_lxml.xpath('//div[@id=\"' + food_id + '_data\"]/div/div/div/div[1]')[0]\n",
    "\n",
    "    nutr_info = []\n",
    "\n",
    "    nutr_base = dom_lxml.xpath('//div[@id=\"proximates' + food_id + '\"]/ul/li[1]/span')[0].text\n",
    "    nutr_info.append([food_id, 'base', nutr_base])\n",
    "\n",
    "    for section in nutr_sections.xpath('./div'):\n",
    "        # print(section.get('id'))\n",
    "        nutr_table = section.xpath('./ul/li')\n",
    "        # print(len(nutr_table))\n",
    "        nutr_base = nutr_table[0].xpath('./span')[0].text\n",
    "        # print(nutr_table[0].xpath('./span')[0].text)\n",
    "\n",
    "        for row in nutr_table[1:]:\n",
    "            cols = row.xpath('./div')\n",
    "            if cols == []:\n",
    "                continue\n",
    "            nutr_info.append([food_id, cols[0].text_content(), cols[1].text_content()])\n",
    "\n",
    "    with open(export_path, \"a\", encoding=\"utf-8\") as f:\n",
    "        for row in nutr_info:\n",
    "            f.write(\"|\".join(row) + '\\n')\n",
    "\n"
   ]
  },
  {
   "cell_type": "code",
   "execution_count": null,
   "metadata": {},
   "outputs": [],
   "source": [
    "#### test "
   ]
  },
  {
   "cell_type": "code",
   "execution_count": 25,
   "metadata": {},
   "outputs": [],
   "source": [
    "food_id = foodlist[0]\n",
    "nutr_sections = dom_lxml.xpath('//div[@id=\"' + food_id + '_data\"]/div/div/div/div[1]')[0]"
   ]
  },
  {
   "cell_type": "code",
   "execution_count": 51,
   "metadata": {},
   "outputs": [
    {
     "data": {
      "text/plain": [
       "[['base', 'Amount per 100 g E.P.'],\n",
       " ['Water (g)', '12.2'],\n",
       " ['Energy, calculated (kcal)', '357'],\n",
       " ['Protein (g)', '8.3'],\n",
       " ['Total Fat (g)', '1.5'],\n",
       " ['Carbohydrate, total (g)', '77.5'],\n",
       " ['Ash, total (g)', '0.5'],\n",
       " ['Fiber, total dietary (g)', '4.5'],\n",
       " ['Sugars, total (g)', '0.6'],\n",
       " ['Calcium, Ca (mg)', '11'],\n",
       " ['Phosphorus, P (mg)', '86'],\n",
       " ['Iron, Fe (mg)', '0.4'],\n",
       " ['Sodium, Na (mg)', '1'],\n",
       " ['Retinol, Vitamin A (µg)', '0'],\n",
       " ['beta-Carotene (µg)', '0'],\n",
       " ['Retinol Activity Equivalent, RAE (µg)', '0'],\n",
       " ['Thiamin, Vitamin B1 (mg)', '0.08'],\n",
       " ['Riboflavin, Vitamin B2 (mg)', '0.05'],\n",
       " ['Niacin (mg)', '0.6'],\n",
       " ['Ascorbic Acid, Vitamin C (mg)', '0'],\n",
       " ['Fatty acids, saturated, total (g)', '0.29'],\n",
       " ['Fatty acids, monounsaturated, total (g)', '0.30'],\n",
       " ['Fatty acids, polyunsaturated, total(g)', '0.75'],\n",
       " ['Cholesterol (mg)', '0']]"
      ]
     },
     "execution_count": 51,
     "metadata": {},
     "output_type": "execute_result"
    }
   ],
   "source": [
    "nutr_info = []\n",
    "\n",
    "nutr_base = dom_lxml.xpath('//div[@id=\"proximates' + food_id + '\"]/ul/li[1]/span')[0].text\n",
    "nutr_info.append(['base', nutr_base])\n",
    "\n",
    "for section in nutr_sections.xpath('./div'):\n",
    "    # print(section.get('id'))\n",
    "    nutr_table = section.xpath('./ul/li')\n",
    "    # print(len(nutr_table))\n",
    "    nutr_base = nutr_table[0].xpath('./span')[0].text\n",
    "    # print(nutr_table[0].xpath('./span')[0].text)\n",
    "\n",
    "    for row in nutr_table[1:]:\n",
    "        cols = row.xpath('./div')\n",
    "        if cols == []:\n",
    "            continue\n",
    "        nutr_info.append([cols[0].text_content(), cols[1].text_content()])\n",
    "\n",
    "nutr_info"
   ]
  }
 ],
 "metadata": {
  "interpreter": {
   "hash": "87c937144e02ebde912fc2c14d4704c10577af47713c0dab6f57693fcf895d93"
  },
  "kernelspec": {
   "display_name": "Python 3.9.10 64-bit",
   "language": "python",
   "name": "python3"
  },
  "language_info": {
   "codemirror_mode": {
    "name": "ipython",
    "version": 3
   },
   "file_extension": ".py",
   "mimetype": "text/x-python",
   "name": "python",
   "nbconvert_exporter": "python",
   "pygments_lexer": "ipython3",
   "version": "3.9.6"
  },
  "orig_nbformat": 4
 },
 "nbformat": 4,
 "nbformat_minor": 2
}
